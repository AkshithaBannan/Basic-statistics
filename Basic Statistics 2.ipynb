{
 "cells": [
  {
   "cell_type": "code",
   "execution_count": 34,
   "id": "071850f9",
   "metadata": {},
   "outputs": [
    {
     "data": {
      "text/plain": [
       "[1.13,\n",
       " 1.55,\n",
       " 1.43,\n",
       " 0.92,\n",
       " 1.25,\n",
       " 1.36,\n",
       " 1.32,\n",
       " 0.85,\n",
       " 1.07,\n",
       " 1.48,\n",
       " 1.2,\n",
       " 1.33,\n",
       " 1.18,\n",
       " 1.22,\n",
       " 1.29]"
      ]
     },
     "execution_count": 34,
     "metadata": {},
     "output_type": "execute_result"
    }
   ],
   "source": [
    "import pandas as pd\n",
    "import numpy as np\n",
    "\n",
    "df = [1.13, 1.55, 1.43, 0.92, 1.25, 1.36, 1.32, 0.85, 1.07, 1.48, 1.20, 1.33, 1.18, 1.22, 1.29]\n",
    "df"
   ]
  },
  {
   "cell_type": "code",
   "execution_count": 35,
   "id": "00a1305d",
   "metadata": {},
   "outputs": [
    {
     "data": {
      "text/plain": [
       "15"
      ]
     },
     "execution_count": 35,
     "metadata": {},
     "output_type": "execute_result"
    }
   ],
   "source": [
    "len(df)"
   ]
  },
  {
   "cell_type": "code",
   "execution_count": 36,
   "id": "3adde872",
   "metadata": {},
   "outputs": [
    {
     "data": {
      "text/plain": [
       "15"
      ]
     },
     "execution_count": 36,
     "metadata": {},
     "output_type": "execute_result"
    }
   ],
   "source": [
    "n=len(df)\n",
    "n"
   ]
  },
  {
   "cell_type": "code",
   "execution_count": 37,
   "id": "443f8cb7",
   "metadata": {},
   "outputs": [],
   "source": [
    "confidence_interval = 0.99"
   ]
  },
  {
   "cell_type": "code",
   "execution_count": 38,
   "id": "a219e51a",
   "metadata": {},
   "outputs": [
    {
     "data": {
      "text/plain": [
       "14"
      ]
     },
     "execution_count": 38,
     "metadata": {},
     "output_type": "execute_result"
    }
   ],
   "source": [
    "df = n-1\n",
    "df"
   ]
  },
  {
   "cell_type": "code",
   "execution_count": 39,
   "id": "1d15554a",
   "metadata": {},
   "outputs": [
    {
     "data": {
      "text/plain": [
       "(14.0, 14.0)"
      ]
     },
     "execution_count": 39,
     "metadata": {},
     "output_type": "execute_result"
    }
   ],
   "source": [
    "#Building 99% Confidence Interval using Sample Standard Deviation\n",
    "#t-distribution\n",
    "mean = np.mean(df)\n",
    "std = np.mean(df)\n",
    "mean, std"
   ]
  },
  {
   "cell_type": "code",
   "execution_count": 40,
   "id": "d9fb2c22",
   "metadata": {},
   "outputs": [
    {
     "data": {
      "text/plain": [
       "-1.1036619528101665"
      ]
     },
     "execution_count": 40,
     "metadata": {},
     "output_type": "execute_result"
    }
   ],
   "source": [
    "t_score = np.percentile(np.random.standard_t(df=df), 1 - (1 - confidence_interval) / 2)\n",
    "t_score"
   ]
  },
  {
   "cell_type": "code",
   "execution_count": 41,
   "id": "da5356d8",
   "metadata": {},
   "outputs": [
    {
     "data": {
      "text/plain": [
       "(17.989500072204763, 10.010499927795237)"
      ]
     },
     "execution_count": 41,
     "metadata": {},
     "output_type": "execute_result"
    }
   ],
   "source": [
    "lower_bound = mean - t_score * (std / np.sqrt(n))\n",
    "upper_bound = mean + t_score * (std / np.sqrt(n))\n",
    "lower_bound, upper_bound"
   ]
  },
  {
   "cell_type": "code",
   "execution_count": 42,
   "id": "8d3c9ce5",
   "metadata": {},
   "outputs": [
    {
     "name": "stdout",
     "output_type": "stream",
     "text": [
      "Confidence Interval (Sample Std Dev): (17.9895, 10.0105)\n"
     ]
    }
   ],
   "source": [
    "print(\"Confidence Interval (Sample Std Dev): ({:.4f}, {:.4f})\".format(lower_bound, upper_bound))"
   ]
  },
  {
   "cell_type": "code",
   "execution_count": 43,
   "id": "e6ae7fe3",
   "metadata": {},
   "outputs": [],
   "source": [
    "# The steps taken and the rationale behind using the t-distribution for this task.\n",
    "\n",
    "#We will assign all the 15 randomly picked recorded data which is a sample represntative of the population into df \n",
    "#As told, we will take confidence interval as 99%\n",
    "#As we donot know the mean and standard deviation, we take df = n-1\n",
    "#Using the formula, we find out t-score which is -0.6192\n",
    "#And then we findout lower_bound and upper_bound values where the mean value is subtracted and added to t_score and is multiplied to Standard Deviation by squareroot of n numbers\n",
    "#(1.436722754935526, 1.0406105783978072) is the lower_bound, upper_bound\n",
    "#Then finally, confidence interval of sample std dev is printed which is (1.4367, 1.0406)\n",
    "\n",
    "\n"
   ]
  },
  {
   "cell_type": "code",
   "execution_count": 44,
   "id": "e30c67ae",
   "metadata": {},
   "outputs": [],
   "source": [
    "#Known Sample Standard Deviation\n",
    "#Z-distribution"
   ]
  },
  {
   "cell_type": "code",
   "execution_count": 45,
   "id": "866b31cc",
   "metadata": {},
   "outputs": [],
   "source": [
    "#population standard deviation is 0.2 million characters, \n",
    "#constructing a 99% confidence interval for the mean number of characters printed before failure.\n",
    "\n",
    "population_std = 0.99"
   ]
  },
  {
   "cell_type": "code",
   "execution_count": 46,
   "id": "a1f98c1e",
   "metadata": {},
   "outputs": [
    {
     "data": {
      "text/plain": [
       "-2.2893707381172885"
      ]
     },
     "execution_count": 46,
     "metadata": {},
     "output_type": "execute_result"
    }
   ],
   "source": [
    "z_score = np.percentile(np.random.standard_normal(size=10000), 1 - (1-confidence_interval)/2)\n",
    "z_score"
   ]
  },
  {
   "cell_type": "code",
   "execution_count": 47,
   "id": "577a946b",
   "metadata": {},
   "outputs": [
    {
     "data": {
      "text/plain": [
       "(16.266477030736116, 11.733522969263884)"
      ]
     },
     "execution_count": 47,
     "metadata": {},
     "output_type": "execute_result"
    }
   ],
   "source": [
    "lower_bound = mean-z_score*(population_std)\n",
    "upper_bound = mean+z_score*(population_std)\n",
    "lower_bound, upper_bound"
   ]
  },
  {
   "cell_type": "code",
   "execution_count": 48,
   "id": "1f29848c",
   "metadata": {},
   "outputs": [
    {
     "name": "stdout",
     "output_type": "stream",
     "text": [
      "Confidence Interval (Known Std Dev): (16.2665, 11.7335)\n"
     ]
    }
   ],
   "source": [
    "print(\"Confidence Interval (Known Std Dev): ({:.4f}, {:.4f})\".format(lower_bound, upper_bound))"
   ]
  },
  {
   "cell_type": "code",
   "execution_count": null,
   "id": "f029e5f9",
   "metadata": {},
   "outputs": [],
   "source": []
  }
 ],
 "metadata": {
  "kernelspec": {
   "display_name": "Python 3 (ipykernel)",
   "language": "python",
   "name": "python3"
  },
  "language_info": {
   "codemirror_mode": {
    "name": "ipython",
    "version": 3
   },
   "file_extension": ".py",
   "mimetype": "text/x-python",
   "name": "python",
   "nbconvert_exporter": "python",
   "pygments_lexer": "ipython3",
   "version": "3.11.5"
  }
 },
 "nbformat": 4,
 "nbformat_minor": 5
}
